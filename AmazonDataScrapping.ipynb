{
 "cells": [
  {
   "cell_type": "code",
   "execution_count": 1,
   "metadata": {},
   "outputs": [],
   "source": [
    "from bs4 import BeautifulSoup\n",
    "import requests\n",
    "import pandas as pd"
   ]
  },
  {
   "cell_type": "code",
   "execution_count": 2,
   "metadata": {},
   "outputs": [],
   "source": [
    "url=\"https://www.amazon.in/s?i=kitchen&srs=6802110031&bbn=6802110031&dc&qid=1728021785&ref=lp_6802110031_nr_i_7\""
   ]
  },
  {
   "cell_type": "code",
   "execution_count": 3,
   "metadata": {},
   "outputs": [],
   "source": [
    "HEADERS = {'User-Agent': 'Mozilla/5.0 (X11; Linux x86_64) AppleWebKit/537.36 (KHTML, like Gecko) Chrome/51.0.2704.103 Safari/537.36'}"
   ]
  },
  {
   "cell_type": "code",
   "execution_count": 4,
   "metadata": {},
   "outputs": [
    {
     "data": {
      "text/plain": [
       "<Response [200]>"
      ]
     },
     "execution_count": 4,
     "metadata": {},
     "output_type": "execute_result"
    }
   ],
   "source": [
    "page=requests.get(url,headers=HEADERS)\n",
    "page"
   ]
  },
  {
   "cell_type": "code",
   "execution_count": 5,
   "metadata": {},
   "outputs": [],
   "source": [
    "soup=BeautifulSoup(page.content,\"html.parser\")"
   ]
  },
  {
   "cell_type": "code",
   "execution_count": 6,
   "metadata": {},
   "outputs": [
    {
     "data": {
      "text/plain": [
       "['Amazon Brand - Presto! Garbage Bags Medium 180 Count',\n",
       " 'Dettol Liquid Handwash Refill – Skincare Hand Wash- 1500ml ',\n",
       " 'Godrej aer Matic Kit (Machine + 1 Refill) - Automatic Room Fresheners with Flexi Control Spray ',\n",
       " 'Amazon Brand - Presto! Garbage Bags Large 90 Count',\n",
       " 'Amazon Brand - Solimo 2 Ply Kitchen Tissue Paper Roll, soft and highly absorbent - 4 Rolls (60 Pulls Per Roll, 240 Sheets)  ',\n",
       " 'Amazon Brand - Presto! Garbage Bags Small 180 Count',\n",
       " 'Happilo 100% Natural Premium California Almonds 200 g Dried ',\n",
       " 'Dettol Liquid Disinfectant for Floor Cleaner, Surface Disinfection , Personal Hygiene (Lime Fresh , 1L)  Liquid',\n",
       " 'Godrej aer Matic Refill - Automatic Room Fresheners ',\n",
       " 'Rey Naturals Cold Pressed Extra Virgin Castor Oil For Hair Growth ',\n",
       " 'urban platter Exotic Fresh Brazil Nuts, 250 grams [Premium',\n",
       " 'Urban Yog Acne Pimple Patch for Face (72 dots) ',\n",
       " 'Nutella Hazelnut Spread with Cocoa, 12.35 oz / 350g  Hazelnut',\n",
       " 'Nutella Hazelnut Spread with Cocoa, 750g  Hazelnut',\n",
       " 'Tulsi California Walnut Kernels Premium 200g ',\n",
       " 'Dettol Skincare Moisturizing Beauty Bathing Soap Bar (625gm)',\n",
       " 'Dettol Original Germ Protection Bathing Soap Bar (625gm) ',\n",
       " 'Dettol Original Germ Protection Bathing Soap Bar (Buy 4 Get 1 Free - 75G Each), Combo Offer On Bath Soap  ',\n",
       " 'Davidoff Coffee, Rich Aroma, 100g Pack of 1  Ground',\n",
       " 'ORION Rice Cracker ']"
      ]
     },
     "execution_count": 6,
     "metadata": {},
     "output_type": "execute_result"
    }
   ],
   "source": [
    "names = soup.find_all('div', class_='a-section a-spacing-none a-spacing-top-small s-title-instructions-style')\n",
    "product_names=[]\n",
    "for name in names:\n",
    "    product_names.append(name.get_text())\n",
    "Pnames=[i.split(\"|\")[0] for i in product_names]\n",
    "Pnames"
   ]
  },
  {
   "cell_type": "code",
   "execution_count": 7,
   "metadata": {},
   "outputs": [
    {
     "data": {
      "text/plain": [
       "['299',\n",
       " '171',\n",
       " '400',\n",
       " '309',\n",
       " '209',\n",
       " '265',\n",
       " '165',\n",
       " '327',\n",
       " '229',\n",
       " '144',\n",
       " '660',\n",
       " '249',\n",
       " '389',\n",
       " '703',\n",
       " '299',\n",
       " '305',\n",
       " '265',\n",
       " '120',\n",
       " '849',\n",
       " '660']"
      ]
     },
     "execution_count": 7,
     "metadata": {},
     "output_type": "execute_result"
    }
   ],
   "source": [
    "prices = soup.find_all('span', class_='a-price-whole')\n",
    "P_prices=[]\n",
    "for price in prices:\n",
    "    P_prices.append(price.get_text())\n",
    "P_prices"
   ]
  },
  {
   "cell_type": "code",
   "execution_count": 8,
   "metadata": {},
   "outputs": [
    {
     "data": {
      "text/plain": [
       "['4.4',\n",
       " '4.5',\n",
       " '4.0',\n",
       " '4.3',\n",
       " '4.4',\n",
       " '4.3',\n",
       " '4.2',\n",
       " '4.4',\n",
       " '4.2',\n",
       " '4.2',\n",
       " '4.3',\n",
       " '4.0',\n",
       " '4.5',\n",
       " '4.4',\n",
       " '4.1',\n",
       " '4.3',\n",
       " '4.5',\n",
       " '4.4',\n",
       " '4.5',\n",
       " '4.4']"
      ]
     },
     "execution_count": 8,
     "metadata": {},
     "output_type": "execute_result"
    }
   ],
   "source": [
    "rate = soup.find_all('span', class_='a-icon-alt')\n",
    "ratings=[]\n",
    "for i in rate:\n",
    "    ratings.append(i.get_text())\n",
    "rt=[j.split(\" \")[0] for j in ratings]\n",
    "rt=rt[:-1]\n",
    "rt"
   ]
  },
  {
   "cell_type": "code",
   "execution_count": 9,
   "metadata": {},
   "outputs": [
    {
     "data": {
      "text/plain": [
       "['50k+',\n",
       " '30K+',\n",
       " '20K+',\n",
       " '10K+',\n",
       " '10K+',\n",
       " '10K+',\n",
       " '7K+',\n",
       " '9K+',\n",
       " '8K+',\n",
       " '7K+',\n",
       " '6K+',\n",
       " '4K+',\n",
       " '2K+',\n",
       " '1K+',\n",
       " '1K+',\n",
       " '400+',\n",
       " '50+',\n",
       " '50+',\n",
       " '500+',\n",
       " '200+']"
      ]
     },
     "execution_count": 9,
     "metadata": {},
     "output_type": "execute_result"
    }
   ],
   "source": [
    "purchase_users = soup.find_all('div', class_='a-row a-size-base')\n",
    "users=[]\n",
    "for i in purchase_users:\n",
    "    users.append(i.get_text())\n",
    "ub=[j.split()[0] for j in users]\n",
    "ub=ub[3:]\n",
    "ub.insert(0,\"50k+\")\n",
    "ub"
   ]
  },
  {
   "cell_type": "code",
   "execution_count": 10,
   "metadata": {},
   "outputs": [
    {
     "data": {
      "text/html": [
       "<div>\n",
       "<style scoped>\n",
       "    .dataframe tbody tr th:only-of-type {\n",
       "        vertical-align: middle;\n",
       "    }\n",
       "\n",
       "    .dataframe tbody tr th {\n",
       "        vertical-align: top;\n",
       "    }\n",
       "\n",
       "    .dataframe thead th {\n",
       "        text-align: right;\n",
       "    }\n",
       "</style>\n",
       "<table border=\"1\" class=\"dataframe\">\n",
       "  <thead>\n",
       "    <tr style=\"text-align: right;\">\n",
       "      <th></th>\n",
       "      <th>Product-Name</th>\n",
       "      <th>Price</th>\n",
       "      <th>Rating</th>\n",
       "      <th>purchased-users</th>\n",
       "    </tr>\n",
       "  </thead>\n",
       "  <tbody>\n",
       "    <tr>\n",
       "      <th>0</th>\n",
       "      <td>Amazon Brand - Presto! Garbage Bags Medium 180...</td>\n",
       "      <td>299</td>\n",
       "      <td>4.4</td>\n",
       "      <td>50k+</td>\n",
       "    </tr>\n",
       "    <tr>\n",
       "      <th>1</th>\n",
       "      <td>Dettol Liquid Handwash Refill – Skincare Hand ...</td>\n",
       "      <td>171</td>\n",
       "      <td>4.5</td>\n",
       "      <td>30K+</td>\n",
       "    </tr>\n",
       "    <tr>\n",
       "      <th>2</th>\n",
       "      <td>Godrej aer Matic Kit (Machine + 1 Refill) - Au...</td>\n",
       "      <td>400</td>\n",
       "      <td>4.0</td>\n",
       "      <td>20K+</td>\n",
       "    </tr>\n",
       "    <tr>\n",
       "      <th>3</th>\n",
       "      <td>Amazon Brand - Presto! Garbage Bags Large 90 C...</td>\n",
       "      <td>309</td>\n",
       "      <td>4.3</td>\n",
       "      <td>10K+</td>\n",
       "    </tr>\n",
       "    <tr>\n",
       "      <th>4</th>\n",
       "      <td>Amazon Brand - Solimo 2 Ply Kitchen Tissue Pap...</td>\n",
       "      <td>209</td>\n",
       "      <td>4.4</td>\n",
       "      <td>10K+</td>\n",
       "    </tr>\n",
       "    <tr>\n",
       "      <th>5</th>\n",
       "      <td>Amazon Brand - Presto! Garbage Bags Small 180 ...</td>\n",
       "      <td>265</td>\n",
       "      <td>4.3</td>\n",
       "      <td>10K+</td>\n",
       "    </tr>\n",
       "    <tr>\n",
       "      <th>6</th>\n",
       "      <td>Happilo 100% Natural Premium California Almond...</td>\n",
       "      <td>165</td>\n",
       "      <td>4.2</td>\n",
       "      <td>7K+</td>\n",
       "    </tr>\n",
       "    <tr>\n",
       "      <th>7</th>\n",
       "      <td>Dettol Liquid Disinfectant for Floor Cleaner, ...</td>\n",
       "      <td>327</td>\n",
       "      <td>4.4</td>\n",
       "      <td>9K+</td>\n",
       "    </tr>\n",
       "    <tr>\n",
       "      <th>8</th>\n",
       "      <td>Godrej aer Matic Refill - Automatic Room Fresh...</td>\n",
       "      <td>229</td>\n",
       "      <td>4.2</td>\n",
       "      <td>8K+</td>\n",
       "    </tr>\n",
       "    <tr>\n",
       "      <th>9</th>\n",
       "      <td>Rey Naturals Cold Pressed Extra Virgin Castor ...</td>\n",
       "      <td>144</td>\n",
       "      <td>4.2</td>\n",
       "      <td>7K+</td>\n",
       "    </tr>\n",
       "    <tr>\n",
       "      <th>10</th>\n",
       "      <td>urban platter Exotic Fresh Brazil Nuts, 250 gr...</td>\n",
       "      <td>660</td>\n",
       "      <td>4.3</td>\n",
       "      <td>6K+</td>\n",
       "    </tr>\n",
       "    <tr>\n",
       "      <th>11</th>\n",
       "      <td>Urban Yog Acne Pimple Patch for Face (72 dots)</td>\n",
       "      <td>249</td>\n",
       "      <td>4.0</td>\n",
       "      <td>4K+</td>\n",
       "    </tr>\n",
       "    <tr>\n",
       "      <th>12</th>\n",
       "      <td>Nutella Hazelnut Spread with Cocoa, 12.35 oz /...</td>\n",
       "      <td>389</td>\n",
       "      <td>4.5</td>\n",
       "      <td>2K+</td>\n",
       "    </tr>\n",
       "    <tr>\n",
       "      <th>13</th>\n",
       "      <td>Nutella Hazelnut Spread with Cocoa, 750g  Haze...</td>\n",
       "      <td>703</td>\n",
       "      <td>4.4</td>\n",
       "      <td>1K+</td>\n",
       "    </tr>\n",
       "    <tr>\n",
       "      <th>14</th>\n",
       "      <td>Tulsi California Walnut Kernels Premium 200g</td>\n",
       "      <td>299</td>\n",
       "      <td>4.1</td>\n",
       "      <td>1K+</td>\n",
       "    </tr>\n",
       "    <tr>\n",
       "      <th>15</th>\n",
       "      <td>Dettol Skincare Moisturizing Beauty Bathing So...</td>\n",
       "      <td>305</td>\n",
       "      <td>4.3</td>\n",
       "      <td>400+</td>\n",
       "    </tr>\n",
       "    <tr>\n",
       "      <th>16</th>\n",
       "      <td>Dettol Original Germ Protection Bathing Soap B...</td>\n",
       "      <td>265</td>\n",
       "      <td>4.5</td>\n",
       "      <td>50+</td>\n",
       "    </tr>\n",
       "    <tr>\n",
       "      <th>17</th>\n",
       "      <td>Dettol Original Germ Protection Bathing Soap B...</td>\n",
       "      <td>120</td>\n",
       "      <td>4.4</td>\n",
       "      <td>50+</td>\n",
       "    </tr>\n",
       "    <tr>\n",
       "      <th>18</th>\n",
       "      <td>Davidoff Coffee, Rich Aroma, 100g Pack of 1  G...</td>\n",
       "      <td>849</td>\n",
       "      <td>4.5</td>\n",
       "      <td>500+</td>\n",
       "    </tr>\n",
       "    <tr>\n",
       "      <th>19</th>\n",
       "      <td>ORION Rice Cracker</td>\n",
       "      <td>660</td>\n",
       "      <td>4.4</td>\n",
       "      <td>200+</td>\n",
       "    </tr>\n",
       "  </tbody>\n",
       "</table>\n",
       "</div>"
      ],
      "text/plain": [
       "                                         Product-Name Price Rating  \\\n",
       "0   Amazon Brand - Presto! Garbage Bags Medium 180...   299    4.4   \n",
       "1   Dettol Liquid Handwash Refill – Skincare Hand ...   171    4.5   \n",
       "2   Godrej aer Matic Kit (Machine + 1 Refill) - Au...   400    4.0   \n",
       "3   Amazon Brand - Presto! Garbage Bags Large 90 C...   309    4.3   \n",
       "4   Amazon Brand - Solimo 2 Ply Kitchen Tissue Pap...   209    4.4   \n",
       "5   Amazon Brand - Presto! Garbage Bags Small 180 ...   265    4.3   \n",
       "6   Happilo 100% Natural Premium California Almond...   165    4.2   \n",
       "7   Dettol Liquid Disinfectant for Floor Cleaner, ...   327    4.4   \n",
       "8   Godrej aer Matic Refill - Automatic Room Fresh...   229    4.2   \n",
       "9   Rey Naturals Cold Pressed Extra Virgin Castor ...   144    4.2   \n",
       "10  urban platter Exotic Fresh Brazil Nuts, 250 gr...   660    4.3   \n",
       "11    Urban Yog Acne Pimple Patch for Face (72 dots)    249    4.0   \n",
       "12  Nutella Hazelnut Spread with Cocoa, 12.35 oz /...   389    4.5   \n",
       "13  Nutella Hazelnut Spread with Cocoa, 750g  Haze...   703    4.4   \n",
       "14      Tulsi California Walnut Kernels Premium 200g    299    4.1   \n",
       "15  Dettol Skincare Moisturizing Beauty Bathing So...   305    4.3   \n",
       "16  Dettol Original Germ Protection Bathing Soap B...   265    4.5   \n",
       "17  Dettol Original Germ Protection Bathing Soap B...   120    4.4   \n",
       "18  Davidoff Coffee, Rich Aroma, 100g Pack of 1  G...   849    4.5   \n",
       "19                                ORION Rice Cracker    660    4.4   \n",
       "\n",
       "   purchased-users  \n",
       "0             50k+  \n",
       "1             30K+  \n",
       "2             20K+  \n",
       "3             10K+  \n",
       "4             10K+  \n",
       "5             10K+  \n",
       "6              7K+  \n",
       "7              9K+  \n",
       "8              8K+  \n",
       "9              7K+  \n",
       "10             6K+  \n",
       "11             4K+  \n",
       "12             2K+  \n",
       "13             1K+  \n",
       "14             1K+  \n",
       "15            400+  \n",
       "16             50+  \n",
       "17             50+  \n",
       "18            500+  \n",
       "19            200+  "
      ]
     },
     "execution_count": 10,
     "metadata": {},
     "output_type": "execute_result"
    }
   ],
   "source": [
    "data=pd.DataFrame()\n",
    "data[\"Product-Name\"]=Pnames\n",
    "data[\"Price\"]=P_prices\n",
    "data[\"Rating\"]=rt\n",
    "data[\"purchased-users\"]=ub\n",
    "\n",
    "data"
   ]
  },
  {
   "cell_type": "code",
   "execution_count": 11,
   "metadata": {},
   "outputs": [],
   "source": [
    "data.to_csv(\"Amazon_Kitchen_Products.csv\",index=False)"
   ]
  }
 ],
 "metadata": {
  "kernelspec": {
   "display_name": "Python 3",
   "language": "python",
   "name": "python3"
  },
  "language_info": {
   "codemirror_mode": {
    "name": "ipython",
    "version": 3
   },
   "file_extension": ".py",
   "mimetype": "text/x-python",
   "name": "python",
   "nbconvert_exporter": "python",
   "pygments_lexer": "ipython3",
   "version": "3.12.4"
  }
 },
 "nbformat": 4,
 "nbformat_minor": 2
}
